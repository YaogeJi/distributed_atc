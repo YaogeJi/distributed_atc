{
 "cells": [
  {
   "cell_type": "code",
   "execution_count": 8,
   "id": "751faaee",
   "metadata": {},
   "outputs": [],
   "source": [
    "## import os\n",
    "import pickle\n",
    "import numpy as np\n",
    "import matplotlib.pyplot as plt\n",
    "import tikzplotlib"
   ]
  },
  {
   "cell_type": "code",
   "execution_count": 9,
   "id": "175b8411",
   "metadata": {},
   "outputs": [],
   "source": [
    "exp_name = \"ball_verification\"\n",
    "N = 240\n",
    "d = 400\n",
    "s = 5\n",
    "m = 20\n",
    "rho = 0.2\n",
    "# rho_list = [0,0.4]\n",
    "iter_type = \"projected\"\n",
    "solver_list = [\"distributed\"]\n",
    "gamma = 0.08789\n",
    "total = 30"
   ]
  },
  {
   "cell_type": "code",
   "execution_count": 10,
   "id": "29c96310",
   "metadata": {
    "scrolled": true
   },
   "outputs": [
    {
     "name": "stdout",
     "output_type": "stream",
     "text": [
      "-------\n",
      "0.2 0.004658175410869263\n",
      "0.2 0.004846951740560528\n",
      "0.2 0.009672183437044601\n",
      "0.2 0.014186351384514356\n",
      "0.2 0.0035681398418466238\n",
      "0.2 0.007897648800328559\n",
      "0.2 0.006001382075778161\n",
      "0.2 0.007537809568982488\n",
      "0.2 0.009268406760305877\n",
      "0.2 0.007314345047734802\n",
      "0.2 0.008829510749532766\n",
      "0.2 0.0060993221085802974\n",
      "0.2 0.005446671884017951\n",
      "0.2 0.0061778430436593805\n",
      "0.2 0.0035138767589837083\n",
      "0.2 0.010223925173568817\n",
      "0.2 0.013598254335988344\n",
      "0.2 0.007954313524167523\n",
      "0.2 0.004306971481157476\n",
      "0.2 0.008257814958113745\n",
      "0.2 0.009053122221646615\n",
      "0.2 0.009879972075619796\n",
      "0.2 0.005316295005216155\n",
      "0.2 0.01213956455281432\n",
      "0.2 0.006695423111719995\n",
      "0.2 0.00613190953300344\n",
      "0.2 0.00902580984334311\n",
      "0.2 0.009765269550894524\n",
      "0.2 0.005900638526199422\n",
      "0.2 0.013689186312183957\n"
     ]
    },
    {
     "name": "stderr",
     "output_type": "stream",
     "text": [
      "/home/ruqi/anaconda3/envs/ml/lib/python3.8/site-packages/numpy/core/fromnumeric.py:3372: RuntimeWarning: Mean of empty slice.\n",
      "  return _methods._mean(a, axis=axis, dtype=dtype,\n",
      "/home/ruqi/anaconda3/envs/ml/lib/python3.8/site-packages/numpy/core/_methods.py:170: RuntimeWarning: invalid value encountered in double_scalars\n",
      "  ret = ret.dtype.type(ret / rcount)\n"
     ]
    },
    {
     "data": {
      "image/png": "[encoded data removed]",
      "text/plain": [
       "<Figure size 432x288 with 1 Axes>"
      ]
     },
     "metadata": {
      "needs_background": "light"
     },
     "output_type": "display_data"
    }
   ],
   "source": [
    "length = 2000\n",
    "mask = np.arange(0, length, 10)\n",
    "x = np.arange(0, length)\n",
    "\n",
    "\n",
    "# centralized_loss = []\n",
    "# for num_exp in range(total):\n",
    "#     filename = \"../output/{}/N{}_d{}_s{}_exp{}/centralized_m{}_rho{}_gamma{}.output\".format(exp_name, N, d, s, num_exp, m, rho, gamma)\n",
    "#     _, loss = pickle.load(open(filename, \"rb\"))\n",
    "#     centralized_loss.append(loss[-1])\n",
    "    \n",
    "centralized_logloss = np.log10(np.mean(centralized_loss))\n",
    "plt.axhline(y=centralized_logloss, c=\"#0000ab\",  linestyle='--', linewidth=2, label=\"centralized statistical error\")\n",
    "print(\"-------\")\n",
    "for solver in solver_list:\n",
    "    loss_matrix = []\n",
    "    \n",
    "    for num_exp in range(total):\n",
    "        filename = \"../output/{}/N{}_d{}_s{}_exp{}/{}_m{}_rho{}_gamma{}.output\".format(exp_name, N, d, s, num_exp, solver, m, rho, gamma)\n",
    "        theta, loss = pickle.load(open(filename, \"rb\"))        \n",
    "        if len(loss) < length:\n",
    "            print(\"WARNING: the total iteration number is less than the required length, manually adjusted\")\n",
    "            loss = np.array(loss + (length-len(loss_matrix))*[loss_matrix[-1]])\n",
    "        else:\n",
    "            loss = np.array(loss)\n",
    "        print(rho, loss[-1])\n",
    "\n",
    "        loss_matrix.append(loss)\n",
    "\n",
    "    plt.plot(x[mask], np.log10(np.mean(loss_matrix, axis=0))[mask], label=solver)\n",
    "    plt.xlim(0,length)\n",
    "    plt.legend()\n",
    "# plt.show()\n",
    "tikzplotlib.save('floor.tex')"
   ]
  },
  {
   "cell_type": "code",
   "execution_count": null,
   "id": "87c13bb5",
   "metadata": {},
   "outputs": [],
   "source": []
  },
  {
   "cell_type": "code",
   "execution_count": null,
   "id": "0b99e7c6",
   "metadata": {},
   "outputs": [],
   "source": []
  }
 ],
 "metadata": {
  "kernelspec": {
   "display_name": "Python 3",
   "language": "python",
   "name": "python3"
  },
  "language_info": {
   "codemirror_mode": {
    "name": "ipython",
    "version": 3
   },
   "file_extension": ".py",
   "mimetype": "text/x-python",
   "name": "python",
   "nbconvert_exporter": "python",
   "pygments_lexer": "ipython3",
   "version": "3.8.5"
  }
 },
 "nbformat": 4,
 "nbformat_minor": 5
}
